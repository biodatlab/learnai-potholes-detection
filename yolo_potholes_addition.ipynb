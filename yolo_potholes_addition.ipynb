{
  "cells": [
    {
      "cell_type": "markdown",
      "metadata": {
        "id": "eaLohN1UUPO6"
      },
      "source": [
        "# Potholes detection with additional annotations\n",
        "\n",
        "- Annotate images on Roboflow\n",
        "- Export to YOLOv8 format\n",
        "- Upload to Colab to train with Roboflow dataset"
      ]
    },
    {
      "cell_type": "code",
      "execution_count": null,
      "metadata": {
        "id": "tQIwgugrkCD5"
      },
      "outputs": [],
      "source": [
        "!pip install fiftyone\n",
        "!pip install ultralytics\n",
        "!pip install gradio"
      ]
    },
    {
      "cell_type": "markdown",
      "metadata": {
        "id": "Kt6i1AQP2304"
      },
      "source": [
        "## Adding new annotations to the dataset"
      ]
    },
    {
      "cell_type": "code",
      "execution_count": null,
      "metadata": {
        "id": "g3oBVDunTuHc"
      },
      "outputs": [],
      "source": [
        "# download data from Roboflow\n",
        "# you can get a URL from https://public.roboflow.com/object-detection/pothole\n",
        "!curl -L \"PUT ROBOFLOW URL HERE\" > roboflow.zip; unzip roboflow.zip; rm roboflow.zip"
      ]
    },
    {
      "cell_type": "code",
      "execution_count": null,
      "metadata": {
        "id": "_fbATveAB95-"
      },
      "outputs": [],
      "source": [
        "# upload `annotations.zip` to Colab and unzip the files\n",
        "!unzip annotations.zip"
      ]
    },
    {
      "cell_type": "code",
      "execution_count": null,
      "metadata": {
        "id": "_JqGyRzgkfuG"
      },
      "outputs": [],
      "source": [
        "# copy unzip images and annotations to train folder\n",
        "import shutil\n",
        "import os.path as op\n",
        "from glob import glob\n",
        "\n",
        "for p in glob(\"annotations/images/*\"):\n",
        "  filename = op.basename(p)\n",
        "  shutil.copy(p, op.join(\"train/images\", filename))\n",
        "\n",
        "for p in glob(\"annotations/labels/*\"):\n",
        "  filename = op.basename(p)\n",
        "  shutil.copy(p, op.join(\"train/labels\", filename))"
      ]
    },
    {
      "cell_type": "markdown",
      "metadata": {},
      "source": [
        "## Training Detection Model\n",
        "\n",
        "Yolov8 - utralytics : https://docs.ultralytics.com/tasks/detect/\n",
        "\n",
        "**Note** You need to edit `data.yaml`` file from ``../train/images` to\n",
        "\n",
        "```\n",
        "train: /content/train/images\n",
        "val: /content/valid/images\n",
        "test: /content/test/images\n",
        "```\n",
        "\n",
        "on Google Colab."
      ]
    },
    {
      "cell_type": "code",
      "execution_count": null,
      "metadata": {
        "id": "e7Sd3YpUkqiB"
      },
      "outputs": [],
      "source": [
        "from ultralytics import YOLO\n",
        "\n",
        "# Load a model\n",
        "model = YOLO('yolov8n.yaml').load('yolov8n.pt')  # build from YAML and transfer weights\n",
        "\n",
        "# Train the YOLO model for 50 epochs\n",
        "results = model.train(data=\"./data.yaml\", epochs=30, imgsz=640)"
      ]
    },
    {
      "cell_type": "markdown",
      "metadata": {
        "id": "3HvuGJpoU0-t"
      },
      "source": [
        "## Run Gradio Application"
      ]
    },
    {
      "cell_type": "code",
      "execution_count": null,
      "metadata": {
        "id": "Txr3TdFUlG9U"
      },
      "outputs": [],
      "source": [
        "import gradio as gr\n",
        "from PIL import Image, ImageDraw, ImageFont\n",
        "\n",
        "def inference(gr_input):\n",
        "    \"\"\"\n",
        "    Inference function for gradio.\n",
        "    \"\"\"\n",
        "    pred = model(gr_input)\n",
        "    draw_prediction = ImageDraw.Draw(gr_input)\n",
        "    boxes_predict = pred[0].boxes\n",
        "    boxes = boxes_predict.xyxy.tolist()\n",
        "    scores = boxes_predict.conf.tolist()\n",
        "    for score, box in zip(scores, boxes):\n",
        "        x, y, x2, y2 = tuple(box)\n",
        "        draw_prediction.rectangle((x, y, x2, y2), outline=\"red\", width=2)\n",
        "    return gr_input"
      ]
    },
    {
      "cell_type": "code",
      "execution_count": null,
      "metadata": {
        "id": "gRrsfnZSlanx"
      },
      "outputs": [],
      "source": [
        "imagein = gr.inputs.Image(label=\"Input Image\", type=\"pil\")\n",
        "imageout = gr.outputs.Image(label=\"Predicted Image\", type=\"pil\")\n",
        "\n",
        "interface = gr.Interface(\n",
        "    fn=inference,\n",
        "    inputs=imagein,\n",
        "    outputs=imageout,\n",
        "    title=\"Potholes detection\",\n",
        "    interpretation=\"default\",\n",
        ").launch(debug=\"True\")\n",
        "\n",
        "# launch demo\n",
        "interface.launch()"
      ]
    }
  ],
  "metadata": {
    "accelerator": "GPU",
    "colab": {
      "gpuType": "T4",
      "provenance": []
    },
    "kernelspec": {
      "display_name": "Python 3",
      "name": "python3"
    },
    "language_info": {
      "name": "python"
    }
  },
  "nbformat": 4,
  "nbformat_minor": 0
}
